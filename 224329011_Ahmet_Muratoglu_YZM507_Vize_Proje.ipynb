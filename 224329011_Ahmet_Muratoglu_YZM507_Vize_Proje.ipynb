{
  "cells": [
    {
      "cell_type": "markdown",
      "metadata": {
        "id": "view-in-github",
        "colab_type": "text"
      },
      "source": [
        "<a href=\"https://colab.research.google.com/github/hexpert/Equlibrum/blob/main/224329011_Ahmet_Muratoglu_YZM507_Vize_Proje.ipynb\" target=\"_parent\"><img src=\"https://colab.research.google.com/assets/colab-badge.svg\" alt=\"Open In Colab\"/></a>"
      ]
    },
    {
      "cell_type": "markdown",
      "metadata": {
        "id": "JOm5UyK8dRDJ"
      },
      "source": []
    },
    {
      "cell_type": "markdown",
      "metadata": {
        "id": "RKD44oKWCvTm"
      },
      "source": [
        "224329011 Ahmet Muratoğlu"
      ]
    },
    {
      "cell_type": "markdown",
      "metadata": {
        "id": "COSPN-hqdOTL"
      },
      "source": []
    },
    {
      "cell_type": "code",
      "execution_count": null,
      "metadata": {
        "colab": {
          "background_save": true
        },
        "id": "ZIF_clH26fbJ"
      },
      "outputs": [],
      "source": [
        "from google.colab import drive\n",
        "drive.mount('/content/drive')"
      ]
    },
    {
      "cell_type": "code",
      "execution_count": null,
      "metadata": {
        "colab": {
          "background_save": true
        },
        "id": "d7apxr83asdn"
      },
      "outputs": [],
      "source": [
        "import cv2\n",
        "import numpy as np\n",
        "from matplotlib import pyplot as plt\n",
        "from google.colab.patches import cv2_imshow"
      ]
    },
    {
      "cell_type": "code",
      "execution_count": null,
      "metadata": {
        "colab": {
          "background_save": true
        },
        "id": "HtU3U4Zobd1m"
      },
      "outputs": [],
      "source": [
        "# Görüntüyü yükleme\n",
        "image = cv2.imread('/content/drive/MyDrive/YZM507/goruntu3.png', cv2.IMREAD_GRAYSCALE)\n",
        "cv2_imshow(image)"
      ]
    },
    {
      "cell_type": "code",
      "execution_count": null,
      "metadata": {
        "colab": {
          "background_save": true
        },
        "id": "GFbXgQf7njZM"
      },
      "outputs": [],
      "source": [
        "# 1. Histogramı çizdirme\n",
        "plt.hist(image.ravel(), 256, [0, 256])\n",
        "plt.title('Original Image Histogram')\n",
        "plt.show()"
      ]
    },
    {
      "cell_type": "code",
      "execution_count": null,
      "metadata": {
        "colab": {
          "background_save": true
        },
        "id": "lNMHM4qVnrf-"
      },
      "outputs": [],
      "source": [
        "# 2. Histogram eşitleme ve sonuçları çizdirme\n",
        "equalized_image = cv2.equalizeHist(image)\n",
        "plt.hist(equalized_image.ravel(), 256, [0, 256])\n",
        "plt.title('Equalized Histogram')\n",
        "plt.show()"
      ]
    },
    {
      "cell_type": "code",
      "execution_count": null,
      "metadata": {
        "colab": {
          "background_save": true
        },
        "id": "oK7DBPr_nxCW"
      },
      "outputs": [],
      "source": [
        "# Görüntüyü gösterme\n",
        "cv2_imshow(equalized_image)\n",
        "cv2.waitKey(0)"
      ]
    },
    {
      "cell_type": "code",
      "execution_count": null,
      "metadata": {
        "colab": {
          "background_save": true
        },
        "id": "6vkRssz3n6AW"
      },
      "outputs": [],
      "source": [
        "# 3. Bicubic interpolasyon ile iki kat büyütme\n",
        "resized_image = cv2.resize(equalized_image, None, fx=2, fy=2, interpolation=cv2.INTER_CUBIC)\n",
        "plt.hist(resized_image.ravel(), 256, [0, 256])\n",
        "plt.title('Resized Image Histogram')\n",
        "plt.show()"
      ]
    },
    {
      "cell_type": "code",
      "execution_count": null,
      "metadata": {
        "colab": {
          "background_save": true
        },
        "id": "kpiy4rMYn7Qq"
      },
      "outputs": [],
      "source": [
        "# 4. Unsharp masking ve highboost filtering\n",
        "gaussian_blur = cv2.GaussianBlur(resized_image, (9, 9), 0)\n",
        "unsharp_image = cv2.addWeighted(resized_image, 1.5, gaussian_blur, -0.5, 0)\n",
        "plt.hist(unsharp_image.ravel(), 256, [0, 256])\n",
        "plt.title('Unsharp Masking Histogram')\n",
        "plt.show()"
      ]
    },
    {
      "cell_type": "code",
      "execution_count": null,
      "metadata": {
        "colab": {
          "background_save": true
        },
        "id": "fx_jEXcFn_x-"
      },
      "outputs": [],
      "source": [
        "# 5. DFT uygulama ve genlik spektrumunu çizdirme\n",
        "dft = cv2.dft(np.float32(unsharp_image), flags=cv2.DFT_COMPLEX_OUTPUT)\n",
        "dft_shift = np.fft.fftshift(dft)\n",
        "magnitude_spectrum = 20 * np.log(cv2.magnitude(dft_shift[:, :, 0], dft_shift[:, :, 1]))\n",
        "#plt.show(magnitude_spectrum, cmap='gray')\n",
        "#plt.show(magnitude_spectrum, cmap=\"gray\")\n",
        "plt.title('Magnitude Spectrum')\n",
        "plt.show()\n",
        "cv2_imshow(magnitude_spectrum)\n",
        "cv2.waitKey(0)"
      ]
    },
    {
      "cell_type": "code",
      "execution_count": null,
      "metadata": {
        "colab": {
          "background_save": true
        },
        "id": "w9wsxxqSoEuM"
      },
      "outputs": [],
      "source": [
        "# 6. Gauss alçak geçiren filtre uygulama\n",
        "rows, cols = unsharp_image.shape\n",
        "crow, ccol = rows // 2 , cols // 2\n",
        "mask = np.zeros((rows, cols, 2), np.uint8)\n",
        "mask[crow-200:crow+200, ccol-200:ccol+200] = 1"
      ]
    },
    {
      "cell_type": "code",
      "execution_count": null,
      "metadata": {
        "colab": {
          "background_save": true
        },
        "id": "X3Kt2zIxoLGz"
      },
      "outputs": [],
      "source": [
        "# DFT sonucu ile maskeyi çarparak alçak geçiren filtreyi uyguluyoruz\n",
        "fshift = dft_shift * mask\n",
        "f_ishift = np.fft.ifftshift(fshift)\n",
        "img_back = cv2.idft(f_ishift)\n",
        "img_back = cv2.magnitude(img_back[:, :, 0], img_back[:, :, 1])"
      ]
    },
    {
      "cell_type": "code",
      "execution_count": null,
      "metadata": {
        "colab": {
          "background_save": true
        },
        "id": "cA62YsHzoU6m"
      },
      "outputs": [],
      "source": [
        "# 7. Görüntünün ters DFT'sini alıp son halini çizdirme\n",
        "cv2_imshow(img_back, cmap='gray')\n",
        "plt.title('Final Image after Inverse DFT')\n",
        "plt.show()"
      ]
    }
  ],
  "metadata": {
    "colab": {
      "provenance": [],
      "authorship_tag": "ABX9TyPkCYaqDQMGwFu/82PsVZPO",
      "include_colab_link": true
    },
    "kernelspec": {
      "display_name": "Python 3",
      "name": "python3"
    },
    "language_info": {
      "name": "python"
    }
  },
  "nbformat": 4,
  "nbformat_minor": 0
}